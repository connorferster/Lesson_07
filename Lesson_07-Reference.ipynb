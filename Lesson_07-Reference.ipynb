{
 "cells": [
  {
   "cell_type": "markdown",
   "id": "710789ff-08f2-471f-ad7b-6cadf00297fe",
   "metadata": {},
   "source": [
    "# Lesson 07 Reference"
   ]
  },
  {
   "cell_type": "markdown",
   "id": "40bc0f6f-cb81-456a-a17c-869c4e2686c5",
   "metadata": {},
   "source": [
    "# Handcalcs"
   ]
  },
  {
   "cell_type": "markdown",
   "id": "6cb01f78-8be0-4572-8d80-ce2ebef46582",
   "metadata": {},
   "source": [
    "## Use handcalcs in a notebook cell with `%%render`\n",
    "\n",
    "**Typical import**\n",
    "\n",
    "```python\n",
    "import handcalcs.render\n",
    "```\n",
    "\n",
    "The `%%render` \"cell magic\" only has meaning within Jupyterlab notebook cell. If you were to use it in a `.py` python file, it would cause an error because it has no meaning. \n",
    "\n",
    "Example:\n",
    "\n",
    "**Cell 1**\n",
    "```python\n",
    "%%render params\n",
    "DL = 2.5 # kPa\n",
    "LL = 4.8 # kPa\n",
    "SL = 1.0 # kPa\n",
    "```\n",
    "\n",
    "**Cell 2**\n",
    "```python\n",
    "%%render\n",
    "FL_LC3a = 1.25*DL + 1.5*LL + 1.0*SL # kPa\n",
    "```"
   ]
  },
  {
   "cell_type": "code",
   "execution_count": null,
   "id": "220e4e70-4a45-4b4c-b200-53d6e3673bde",
   "metadata": {},
   "outputs": [],
   "source": []
  },
  {
   "cell_type": "markdown",
   "id": "5b20493e-78e9-4cd6-b32a-1a5d23eeb454",
   "metadata": {
    "tags": []
   },
   "source": [
    "## Use handcalcs in functions with the `@handcalc` decorator\n",
    "\n",
    "**Typical import**\n",
    "```python\n",
    "from handcalcs.decorator import handcalc\n",
    "```\n",
    "\n",
    "While the `%%render` cell magic can only be used in Jupyter and not general Python, you can still use handcalcs in general Python by using the `@handcalc` decorator. It works like this:\n",
    "\n",
    "```python\n",
    "@handcalc(jupyter_display=True)\n",
    "def LC3a(DL: float, LL: float, SL: float) -> float:\n",
    "    \"\"\"NBCC Loadcase 3a\"\"\"\n",
    "    FL = 1.25*DL + 1.5*LL + 1.0*SL # kPa\n",
    "    return FL\n",
    "```\n",
    "\n",
    "Similar to a cell magic, a decorator is a simply a function that gets called on your function before your function executes.\n",
    "\n",
    "When the function executes, you will see the code within your function get rendered in your notebook AND you will also get your function return value.\n",
    "\n",
    "**Usage**\n",
    "\n",
    "```python\n",
    "DL = 2.5\n",
    "LL = 4.8\n",
    "SL = 1.0\n",
    "factored = LC3a(DL, LL, SL)\n",
    "print(factored)\n",
    "```\n",
    "\n",
    "Now your function will only return one value, your return value, and the _function code_ will be rendered in the cell."
   ]
  },
  {
   "cell_type": "code",
   "execution_count": 14,
   "id": "26f852e2-5d48-4bab-978d-3bf4b00e77e2",
   "metadata": {},
   "outputs": [],
   "source": [
    "from handcalcs.decorator import handcalc"
   ]
  },
  {
   "cell_type": "code",
   "execution_count": 16,
   "id": "f2873a75-851b-4b6f-9d0f-c8cb5f18fbad",
   "metadata": {},
   "outputs": [],
   "source": [
    "@handcalc(jupyter_display=True)\n",
    "def LC3a(DL: float, LL: float, SL: float) -> float:\n",
    "    \"\"\"NBCC Loadcase 3a\"\"\"\n",
    "    FL = 1.25*DL + 1.5*LL + 1.0*SL # kPa\n",
    "    return FL"
   ]
  },
  {
   "cell_type": "code",
   "execution_count": 18,
   "id": "7e7a4acf-4c76-4dae-a7a2-a482c733d27b",
   "metadata": {},
   "outputs": [
    {
     "data": {
      "text/latex": [
       "\\[\n",
       "\\begin{aligned}\n",
       "\\mathrm{FL} &= 1.25 \\cdot \\mathrm{DL} + 1.5 \\cdot \\mathrm{LL} + 1.0 \\cdot \\mathrm{SL}  = 1.25 \\cdot 2.5 + 1.5 \\cdot 4.8 + 1.0 \\cdot 1.0 &= 11.325 \\; \\;\\textrm{(kPa)}\n",
       "\\end{aligned}\n",
       "\\]"
      ],
      "text/plain": [
       "<IPython.core.display.Latex object>"
      ]
     },
     "metadata": {},
     "output_type": "display_data"
    },
    {
     "name": "stdout",
     "output_type": "stream",
     "text": [
      "11.325\n"
     ]
    }
   ],
   "source": [
    "DL = 2.5\n",
    "LL = 4.8\n",
    "SL = 1.0\n",
    "factored = LC3a(DL, LL, SL)\n",
    "print(factored)"
   ]
  },
  {
   "cell_type": "markdown",
   "id": "75ea01aa-53e2-4f4f-85a3-c1a08df80371",
   "metadata": {
    "tags": []
   },
   "source": [
    "## How it works\n",
    "\n",
    "1. When you run your cell, handcalcs first reads the code in your cell.\n",
    "2. handcalcs tells Jupyter to run the code in the cell and all values are calculated and assigned to the appropriate variables.\n",
    "3. It splits the numbers and operators apart and then uses several `for` loops to _transform_ each of the python code strings into $\\LaTeX$ strings. \n",
    "4. Finally, it gets the calculated results from Python and puts the appropriate result at the end of your calculation code.\n",
    "\n",
    "\n",
    "**For example:**\n",
    "\n",
    "If your code cell looked like this:\n",
    "\n",
    "```python\n",
    "a = 4\n",
    "b = 5.2\n",
    "c = 2 * a + b\n",
    "```"
   ]
  },
  {
   "cell_type": "markdown",
   "id": "3fea1719-9afd-4294-93c2-165b5a2147f5",
   "metadata": {},
   "source": [
    "Then the cell source code looks like this:\n",
    "\n",
    "```python\n",
    "source_code = 'a = 4\\nb = 5.2\\nc = 2 * a + b'\n",
    "```"
   ]
  },
  {
   "cell_type": "code",
   "execution_count": 13,
   "id": "0e484d62-27c2-4923-9e0c-1453e37707d5",
   "metadata": {},
   "outputs": [],
   "source": [
    "source_code = 'a = 4\\nb = 5.2\\nc = 2 * a + b'"
   ]
  },
  {
   "cell_type": "markdown",
   "id": "e32bb469-3784-4ada-82cc-80834838f073",
   "metadata": {},
   "source": [
    "Now, to split up the code into individual lines and then individual pieces of arithmetic:\n",
    "```python\n",
    "# Split the cell code into lines\n",
    "lines_of_code = source_code.split(\"\\n\")\n",
    "\n",
    "# Split up the lines of code into atomic pieces\n",
    "split_lines = []\n",
    "for line_of_code in lines_of_code:\n",
    "    split_lines.append(line_of_code.split(\" \"))\n",
    "```"
   ]
  },
  {
   "cell_type": "code",
   "execution_count": null,
   "id": "c9aaf372-8412-4f6e-a630-609cd92b6155",
   "metadata": {},
   "outputs": [],
   "source": [
    "# Split the cell code into lines\n",
    "lines_of_code = source_code.split(\"\\n\")\n",
    "\n",
    "# Split up the lines of code into atomic pieces\n",
    "split_lines = []\n",
    "for line_of_code in lines_of_code:\n",
    "    split_lines.append(line_of_code.split(\" \"))"
   ]
  },
  {
   "cell_type": "markdown",
   "id": "b75c8107-9ff1-4a3a-841c-4b8d994756e6",
   "metadata": {},
   "source": [
    "From the Jupyter back-end, we can get a dictionary with all of the variable values which result from running the cell:\n",
    "\n",
    "```python\n",
    "results = {\"a\": 4, \"b\": 5.2, \"c\": 13.2}\n",
    "```\n"
   ]
  },
  {
   "cell_type": "code",
   "execution_count": 18,
   "id": "a317b820-eea8-4cf7-8f4e-89df244386d0",
   "metadata": {},
   "outputs": [],
   "source": [
    "results = {\"a\": 4, \"b\": 5.2, \"c\": 13.2}"
   ]
  },
  {
   "cell_type": "markdown",
   "id": "ef688450-b287-433f-ba89-007eda1faa2e",
   "metadata": {},
   "source": [
    "The first two lines just have variable assignments so we will only update the information in the last line.\n",
    "\n",
    "The idea is to show the formula, the numeric substitution, and then the result. So, lets change the form of the third line so it looks more like symbol, formula, numeric susbtitution, result.\n",
    "\n",
    "```python\n",
    "last_line = split_lines[2]\n",
    "result_symbol = last_line[0]\n",
    "formula = last_line[2:]\n",
    "\n",
    "numeric_substitution = []\n",
    "for symbol in formula:\n",
    "    numeric_substitution.append(results.get(symbol, symbol))\n",
    "\n",
    "result_value = results.get(result_symbol, result_symbol)\n",
    "\n",
    "new_line = [result_symbol] + [\"=\"] + formula + [\"=\"] + numeric_substitution + [\"=\"] + [result_value]\n",
    "\n",
    "split_lines[2] = new_line\n",
    "```"
   ]
  },
  {
   "cell_type": "code",
   "execution_count": null,
   "id": "50d356a5-3b99-4b23-b62f-2ce2d131ad12",
   "metadata": {},
   "outputs": [],
   "source": []
  },
  {
   "cell_type": "markdown",
   "id": "59083fc7-213a-44eb-9c0b-f333b37cff2a",
   "metadata": {},
   "source": [
    "Now that we have all of the pieces, put each line back together as strings but keep them as separate lines.\n",
    "\n",
    "```python\n",
    "converted_lines = []\n",
    "for line_as_list in split_lines:\n",
    "    all_elements_as_strings = [str(element) for element in line_as_list]\n",
    "    line_as_string = \" \".join(all_elements_as_strings)\n",
    "    converted_lines.append(line_as_string)\n",
    "```"
   ]
  },
  {
   "cell_type": "code",
   "execution_count": null,
   "id": "f38150dd-3b99-477c-b1dc-38afeb51a7f9",
   "metadata": {},
   "outputs": [],
   "source": []
  },
  {
   "cell_type": "markdown",
   "id": "4731dd41-3331-42fd-b490-2fbdb5dd7222",
   "metadata": {},
   "source": [
    "And last, we will wrap these strings in a \"Latex\" environment and put Latex line breaks around them. Latex is a different programming language for displaying math symbols.\n",
    "\n",
    "```python\n",
    "latex_start =  \"\\[\\n\\\\begin{aligned}\\n\"\n",
    "latex_end = \"\\\\end{aligned}\\n\\]\"\n",
    "line_break_symbol = \"\\\\\\\\[10pt]\\n\"\n",
    "\n",
    "joined_lines_as_latex = line_break_symbol.join(converted_lines)\n",
    "\n",
    "final_code = latex_start + joined_lines_as_latex + latex_end\n",
    "```\n",
    "    "
   ]
  },
  {
   "cell_type": "code",
   "execution_count": null,
   "id": "a71c6cf3-269b-4ea9-bc3d-01e67fa85dd0",
   "metadata": {},
   "outputs": [],
   "source": []
  },
  {
   "cell_type": "markdown",
   "id": "f4588262-5a1b-450d-b3ff-32c15ecfe493",
   "metadata": {},
   "source": [
    "Last, use the special `IPython.display` functions to render the Latex code in the browser.\n",
    "\n",
    "```python\n",
    "from IPython.display import Latex, display_latex\n",
    "\n",
    "latex_code = Latex(final_code)\n",
    "display_latex(latex_code)\n",
    "```"
   ]
  }
 ],
 "metadata": {
  "kernelspec": {
   "display_name": "Python 3 (ipykernel)",
   "language": "python",
   "name": "python3"
  },
  "language_info": {
   "codemirror_mode": {
    "name": "ipython",
    "version": 3
   },
   "file_extension": ".py",
   "mimetype": "text/x-python",
   "name": "python",
   "nbconvert_exporter": "python",
   "pygments_lexer": "ipython3",
   "version": "3.9.7"
  }
 },
 "nbformat": 4,
 "nbformat_minor": 5
}
