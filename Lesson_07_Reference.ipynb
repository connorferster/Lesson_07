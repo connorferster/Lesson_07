{
 "cells": [
  {
   "cell_type": "markdown",
   "id": "09aeeede-4610-4d16-ba77-311ca5943a21",
   "metadata": {},
   "source": [
    "# Lesson 07 Reference"
   ]
  },
  {
   "cell_type": "markdown",
   "id": "1a84ac6a-fbb1-40ef-ac65-0db1e1afeb97",
   "metadata": {
    "tags": []
   },
   "source": [
    "# `pathlib`\n",
    "\n",
    "```python\n",
    "import pathlib\n",
    "```\n",
    "\n",
    "Your current working directory (\"cwd\") is the same directory where your notebook file is.\n",
    "\n",
    "**Relative path**: The current working directory is taken as the starting point and is called `.`. As you navigate into directories, your path deepens relative to your cwd, e.g. `./directory_1/directory_2`\n",
    "\n",
    "**Absolute path**: Your relative cwd can be _resolved_ to create an absolute path. An absolute path starts at your computer's root directory and navigates deeper. On Windows that starts with a drive letter, i.e. `C:/` and deepens in relation to the root, e.g. `C:/Users/your_name/Desktop`. On \"POSIX\" systems (Linux and Mac OS), the root directory is called `/`.\n",
    "\n",
    "```python\n",
    "here = pathlib.Path() # Relative path to cwd\n",
    "here_abs = here.resolve()\n",
    "```\n",
    "\n",
    "**Navigate paths by using the `/` operator (division)**\n",
    "\n",
    "```python\n",
    "my_file = here / \"directory 1\" / \"my_file.txt\"\n",
    "```\n",
    "\n",
    "**Go \"up\" a directory by using `.parent`**\n",
    "\n",
    "```python\n",
    "dir_1 = my_file.parent\n",
    "my_other_file = dir_1 / \"my_other_file.txt\"\n",
    "```\n",
    "\n",
    "Use `[Tab]` to see the list of methods for `Path` objects. Use `[Shift]-[Tab]` to see how to use an individual method.\n",
    "\n",
    "> See Reference 02 for more info on using `[Tab]` and `[Shift]-[Tab]` on Python objects in Jupyter.\n",
    "\n",
    "### Some `Path` methods\n",
    "\n",
    "* `path.exists()` - Returns True if the path exists on your computer; False otherwise\n",
    "* `path.mkdir()` - Starting with a path (abs or rel) that exists, make up a new directory name and navigate into it (after you do, running `.exists()` on your path should return False). Then run `.mkdir()` to make that new directory exist on your computer.\n",
    "* `path.touch()` - Similar to `.mkdir()`, navigate into a directory that exists and then create a path to a file that does not exist yet (after you do, running `.exists()` on your file path should return False). Then run `.touch()` to make that new file exist.\n",
    "* `path.rename(new_path)` - Moves/renames the current path on your machine to the `new_path`. If you are want to just change the file name, you should include the full path (i.e. all of the parents) up to that file, e.g. `my_path.rename(my_path.parents / \"new_file_name.ext\")`\n",
    "* `path.glob(match_str)` - Returns an iterator of the contents of the directory at `path` (if `path` is a directory and not a file) that matches the `match_str`. Use `\"*\"` as a \"wild card\" to match files of a certain types or names. \n",
    "    * `\"*\"` will match all files and directories\n",
    "    * `\"*.txt\"` will match all files ending in \".txt\"\n",
    "    * `\"VAN.120*.xlsx\"` will match all files with names that start with \"VAN.120\" and end with \".xlsx\""
   ]
  },
  {
   "cell_type": "code",
   "execution_count": null,
   "id": "fa5c853e-d797-4932-8452-79b1851e4291",
   "metadata": {},
   "outputs": [],
   "source": []
  },
  {
   "cell_type": "code",
   "execution_count": null,
   "id": "0f9f37bf-f827-473f-8603-79568b534b57",
   "metadata": {},
   "outputs": [],
   "source": []
  },
  {
   "cell_type": "markdown",
   "id": "ec89c105-2ab2-4de1-a848-f62ebd2c7a59",
   "metadata": {},
   "source": [
    "## Looping over files in a directory\n",
    "\n",
    "```python\n",
    "for file_path in here.glob(\"*.txt\"): # Will return all files ending in .xlsx\n",
    "    print(file_path)\n",
    "```\n",
    "\n",
    "### Example of bulk file operations\n",
    "\n",
    "Create a bunch of empty text files (to start working on):\n",
    "\n",
    "```python\n",
    "new_dir = here / \"New Directory\"\n",
    "new_dir.mkdir()\n",
    "print(new_dir.exists())\n",
    "\n",
    "file_names = [\"a.txt\", \"b.txt\", \"c.txt\", \"d.txt\", \"e.txt\"]\n",
    "for file_name in file_names:\n",
    "    file_path = new_dir / file_name\n",
    "    file_path.touch()\n",
    "```\n",
    "\n",
    "Now, change the file names to look like RJC project file names:\n",
    "\n",
    "```python\n",
    "for file_path in new_dir.glob(\"*.txt\"):\n",
    "    name_template = \"VAN.123456.0001-NOTE-20220115-CMF\"\n",
    "    new_file_name = f\"{name_template}-{file_path.name}\"\n",
    "    print(\"Renaming file: \", file_path.name, new_file_name) # Test first\n",
    "    # file_path.rename(file_path.parent / new_file_name)\n",
    "```\n",
    "\n",
    "### FOR GOODNESS'S SAKE!!! BE CAREFUL WHEN DOING BULK FILE OPERATIONS!!!\n",
    "\n",
    "There is NO UNDO for this.\n",
    "\n",
    "To be safe:\n",
    "\n",
    "1. Make backups and keep them safe before attempting anything\n",
    "2. Use the `print()` function to test what you are about to do before you do it\n",
    "3. Only perform these operations on backed up files on your local machine. **DO NOT OPERATE ON FILES ON THE SHARED DRIVES OR ON ANYONE ELSE'S FILES! YOU _WILL_ BE SORRY OTHERWISE!**"
   ]
  }
 ],
 "metadata": {
  "kernelspec": {
   "display_name": "Python 3 (ipykernel)",
   "language": "python",
   "name": "python3"
  },
  "language_info": {
   "codemirror_mode": {
    "name": "ipython",
    "version": 3
   },
   "file_extension": ".py",
   "mimetype": "text/x-python",
   "name": "python",
   "nbconvert_exporter": "python",
   "pygments_lexer": "ipython3",
   "version": "3.9.7"
  }
 },
 "nbformat": 4,
 "nbformat_minor": 5
}
