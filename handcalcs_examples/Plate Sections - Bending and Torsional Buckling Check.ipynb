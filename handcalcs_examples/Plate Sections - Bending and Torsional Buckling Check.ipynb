{
 "cells": [
  {
   "cell_type": "code",
   "execution_count": 53,
   "metadata": {},
   "outputs": [],
   "source": [
    "import handcalcs.render\n",
    "import forallpeople\n",
    "forallpeople.environment('structural', top_level=True)\n",
    "\n",
    "from math import sin, pi, sqrt"
   ]
  },
  {
   "cell_type": "markdown",
   "metadata": {},
   "source": [
    "# Bending and Torsional Buckling Check of Plate Sections"
   ]
  },
  {
   "cell_type": "code",
   "execution_count": 54,
   "metadata": {},
   "outputs": [],
   "source": [
    "## Inputs\n",
    "d = 450*mm\n",
    "t = 35*mm\n",
    "\n",
    "phi = 0.9\n",
    "F_y = 300*MPa\n",
    "E_mod = 200*GPa\n",
    "G_mod = 77*GPa\n",
    "\n",
    "L = 4.05*m\n",
    "k = 2.5\n",
    "omega_2 = 1.0 #Single curvature\n",
    "M_f = 56.6*kN*m"
   ]
  },
  {
   "cell_type": "markdown",
   "metadata": {},
   "source": [
    "## Section Parameters"
   ]
  },
  {
   "cell_type": "code",
   "execution_count": 55,
   "metadata": {},
   "outputs": [
    {
     "data": {
      "text/latex": [
       "\\[\n",
       "\\begin{aligned}\n",
       "A &= 15750.000\\ \\text{mm}^{2} \\; \n",
       " &S_{x} &= 1181250.000\\ \\text{mm}^{3} \\; \n",
       " &I_{x} &= 265781250.000\\ \\text{mm}^{4} \\; \n",
       "\\\\[10pt]\n",
       " I_{y} &= 1607812.500\\ \\text{mm}^{4} \\;\\end{aligned}\n",
       "\\]"
      ],
      "text/plain": [
       "<IPython.core.display.Latex object>"
      ]
     },
     "metadata": {},
     "output_type": "display_data"
    }
   ],
   "source": [
    "%%render params\n",
    "A = d*t\n",
    "S_x = (t*d**2) / 6\n",
    "I_x = (t*d**3)/12\n",
    "I_y = (d*t**3)/12"
   ]
  },
  {
   "cell_type": "markdown",
   "metadata": {},
   "source": [
    "### Calculate Torsional Constant, J\n",
    "Calculation taken from:<br>\n",
    "Seaburg, Paul A.; Carter, Charles J., \"Torsional Analysis of Structural Steel Members\", AISC Steel Design Guide Series 9, 1997\n",
    "\n",
    "https://user.eng.umd.edu/~ccfu/ref/Design-Guide-9-torsion.pdf"
   ]
  },
  {
   "cell_type": "code",
   "execution_count": 56,
   "metadata": {},
   "outputs": [
    {
     "data": {
      "text/latex": [
       "\\[\n",
       "\\begin{aligned}\n",
       "&\\text{Since, } \\left( \\frac{ d }{ t } \\right) \\gt 10 \\rightarrow \\left( \\left( \\frac{ 450.000\\ \\text{mm} }{ 35.000\\ \\text{mm} } \\right) \\gt 10 \\right) :   \\end{aligned}\n",
       "\\]\n",
       "\\[\n",
       "\\begin{aligned}\n",
       "J &= \\frac{ d \\cdot \\left( t \\right) ^{ 3 } }{ 3 }  = \\frac{ 450.000\\ \\text{mm} \\cdot \\left( 35.000\\ \\text{mm} \\right) ^{ 3 } }{ 3 } &= 6431250.000\\ \\text{mm}^{4}  \n",
       "\\end{aligned}\n",
       "\\]"
      ],
      "text/plain": [
       "<IPython.core.display.Latex object>"
      ]
     },
     "metadata": {},
     "output_type": "display_data"
    }
   ],
   "source": [
    "%%render\n",
    "if (d/t) > 10: J = (d*t**3)/3\n",
    "elif (d/t) <= 10: J = (1/3 - 1/5*t/d)*d*t**3\n"
   ]
  },
  {
   "cell_type": "markdown",
   "metadata": {},
   "source": [
    "## Material Parameters"
   ]
  },
  {
   "cell_type": "code",
   "execution_count": 57,
   "metadata": {},
   "outputs": [
    {
     "data": {
      "text/latex": [
       "\\[\n",
       "\\begin{aligned}\n",
       "\\phi &= 0.9 \\; \n",
       " &F_{y} &= 300.000\\ \\text{MPa} \\; \n",
       " &E_{mod} &= 200.000\\ \\text{GPa} \\; \n",
       "\\\\[10pt]\n",
       " G_{mod} &= 77.000\\ \\text{GPa} \\;\\end{aligned}\n",
       "\\]"
      ],
      "text/plain": [
       "<IPython.core.display.Latex object>"
      ]
     },
     "metadata": {},
     "output_type": "display_data"
    }
   ],
   "source": [
    "%%render params\n",
    "phi\n",
    "F_y\n",
    "E_mod\n",
    "G_mod\n"
   ]
  },
  {
   "cell_type": "markdown",
   "metadata": {},
   "source": [
    "## Loading Parameters"
   ]
  },
  {
   "cell_type": "code",
   "execution_count": 58,
   "metadata": {},
   "outputs": [
    {
     "data": {
      "text/latex": [
       "\\[\n",
       "\\begin{aligned}\n",
       "L &= 4.050\\ \\text{m} \\; \n",
       " &k &= 2.5 \\; \n",
       " &\\omega_{2} &= 1.0 \\; \n",
       "\\\\[10pt]\n",
       " M_{f} &= 56.600\\ \\text{kN} \\cdot \\text{m} \\;\\end{aligned}\n",
       "\\]"
      ],
      "text/plain": [
       "<IPython.core.display.Latex object>"
      ]
     },
     "metadata": {},
     "output_type": "display_data"
    }
   ],
   "source": [
    "%%render params\n",
    "L\n",
    "k\n",
    "omega_2\n",
    "M_f\n"
   ]
  },
  {
   "cell_type": "markdown",
   "metadata": {},
   "source": [
    "## Section Class Check"
   ]
  },
  {
   "cell_type": "code",
   "execution_count": 59,
   "metadata": {},
   "outputs": [],
   "source": [
    "from math import sqrt"
   ]
  },
  {
   "cell_type": "code",
   "execution_count": 60,
   "metadata": {},
   "outputs": [
    {
     "data": {
      "text/latex": [
       "\\[\n",
       "\\begin{aligned}\n",
       "b_{el} &= 450.000\\ \\text{mm} \\; \n",
       "\\\\[10pt]\n",
       "\\mathrm{check}_{stem} &= \\frac{ b_{el} }{ t }  = \\frac{ 450.000\\ \\text{mm} }{ 35.000\\ \\text{mm} } &= 12.857  \n",
       "\\\\[10pt]\n",
       "&\\text{Since, } \\mathrm{check}_{stem} \\gt \\frac{ 200 }{ \\sqrt { F_{y} } } \\rightarrow \\left( 12.857 \\gt \\frac{ 200 }{ \\sqrt { 300.000\\ \\text{MPa} } } \\right) :   \\end{aligned}\n",
       "\\]\n",
       "\\[\n",
       "\\begin{aligned}\n",
       "\\mathrm{classification} &= 4 \\; \n",
       "\\end{aligned}\n",
       "\\]"
      ],
      "text/plain": [
       "<IPython.core.display.Latex object>"
      ]
     },
     "metadata": {},
     "output_type": "display_data"
    }
   ],
   "source": [
    "%%render\n",
    "b_el = d\n",
    "check_stem = b_el / t\n",
    "if check_stem <= 145 / (sqrt(F_y)): classification = 1\n",
    "elif check_stem <= 170 / (sqrt(F_y)): classification = 2\n",
    "elif check_stem <= 200 / (sqrt(F_y)): classification = 3\n",
    "elif check_stem > 200 / (sqrt(F_y)): classification = 4"
   ]
  },
  {
   "cell_type": "markdown",
   "metadata": {},
   "source": [
    "## Calculated Properties"
   ]
  },
  {
   "cell_type": "code",
   "execution_count": 61,
   "metadata": {},
   "outputs": [
    {
     "data": {
      "text/latex": [
       "\\[\n",
       "\\begin{aligned}\n",
       "L_{eff} &= k \\cdot L  = 2.5 \\cdot 4.050\\ \\text{m} &= 10.125\\ \\text{m}  \n",
       "\\end{aligned}\n",
       "\\]"
      ],
      "text/plain": [
       "<IPython.core.display.Latex object>"
      ]
     },
     "metadata": {},
     "output_type": "display_data"
    }
   ],
   "source": [
    "%%render\n",
    "L_eff = k * L"
   ]
  },
  {
   "cell_type": "markdown",
   "metadata": {},
   "source": [
    "## Critical Elastic Moment"
   ]
  },
  {
   "cell_type": "code",
   "execution_count": 62,
   "metadata": {},
   "outputs": [],
   "source": [
    "def sqrt(x):\n",
    "    return x**0.5"
   ]
  },
  {
   "cell_type": "code",
   "execution_count": 63,
   "metadata": {},
   "outputs": [
    {
     "data": {
      "text/latex": [
       "\\[\n",
       "\\begin{aligned}\n",
       "M_{u} &= \\frac{ \\omega_{2} \\cdot \\pi }{ L_{eff} } \\cdot \\sqrt { E_{mod} \\cdot I_{y} \\cdot G_{mod} \\cdot J } \\\\&= \\frac{ 1.0 \\cdot 3.142 }{ 10.125\\ \\text{m} } \\cdot \\sqrt { 200.000\\ \\text{GPa} \\cdot 1607812.500\\ \\text{mm}^{4} \\cdot 77.000\\ \\text{GPa} \\cdot 6431250.000\\ \\text{mm}^{4} } \\\\&= 123.817\\ \\text{kN} \\cdot \\text{m}  \\\\\n",
       "\\end{aligned}\n",
       "\\]"
      ],
      "text/plain": [
       "<IPython.core.display.Latex object>"
      ]
     },
     "metadata": {},
     "output_type": "display_data"
    }
   ],
   "source": [
    "%%render long\n",
    "M_u = (omega_2 * pi) / (L_eff) * sqrt(E_mod*I_y*G_mod*J)"
   ]
  },
  {
   "cell_type": "markdown",
   "metadata": {},
   "source": [
    "## Yield Moment"
   ]
  },
  {
   "cell_type": "code",
   "execution_count": 64,
   "metadata": {},
   "outputs": [
    {
     "data": {
      "text/latex": [
       "\\[\n",
       "\\begin{aligned}\n",
       "M_{y} &= \\phi \\cdot S_{x} \\cdot F_{y}  = 0.9 \\cdot 1181250.000\\ \\text{mm}^{3} \\cdot 300.000\\ \\text{MPa} &= 318.938\\ \\text{kN} \\cdot \\text{m}  \n",
       "\\end{aligned}\n",
       "\\]"
      ],
      "text/plain": [
       "<IPython.core.display.Latex object>"
      ]
     },
     "metadata": {},
     "output_type": "display_data"
    }
   ],
   "source": [
    "%%render\n",
    "M_y = phi*S_x * F_y"
   ]
  },
  {
   "cell_type": "markdown",
   "metadata": {},
   "source": [
    "## Factored Moment Resistance"
   ]
  },
  {
   "cell_type": "code",
   "execution_count": 65,
   "metadata": {},
   "outputs": [
    {
     "data": {
      "text/latex": [
       "\\[\n",
       "\\begin{aligned}\n",
       "&\\text{Since, } M_{u} \\leq 0.67 \\cdot M_{y} \\rightarrow \\left( 123.817\\ \\text{kN} \\cdot \\text{m} \\leq 0.67 \\cdot 318.938\\ \\text{kN} \\cdot \\text{m} \\right) :   \\end{aligned}\n",
       "\\]\n",
       "\\[\n",
       "\\begin{aligned}\n",
       "M_{r} &= \\phi \\cdot M_{u} \\\\&= 0.9 \\cdot 123.817\\ \\text{kN} \\cdot \\text{m} \\\\&= 111.435\\ \\text{kN} \\cdot \\text{m}  \\\\\n",
       "\\end{aligned}\n",
       "\\]"
      ],
      "text/plain": [
       "<IPython.core.display.Latex object>"
      ]
     },
     "metadata": {},
     "output_type": "display_data"
    }
   ],
   "source": [
    "%%render long\n",
    "if M_u > 0.67*M_y: M_r = 1.15*phi*M_y*((1 - (0.28*M_y)/(M_u)))\n",
    "elif M_u<= 0.67*M_y: M_r = phi * M_u"
   ]
  },
  {
   "cell_type": "markdown",
   "metadata": {},
   "source": [
    "## Demand Capacity Ratio"
   ]
  },
  {
   "cell_type": "code",
   "execution_count": 66,
   "metadata": {},
   "outputs": [
    {
     "data": {
      "text/latex": [
       "\\[\n",
       "\\begin{aligned}\n",
       "\\mathrm{DCR} &= \\frac{ M_{f} }{ M_{r} }  = \\frac{ 56.600\\ \\text{kN} \\cdot \\text{m} }{ 111.435\\ \\text{kN} \\cdot \\text{m} } &= 5.079 \\times 10 ^ {-1 }  \n",
       "\\end{aligned}\n",
       "\\]"
      ],
      "text/plain": [
       "<IPython.core.display.Latex object>"
      ]
     },
     "metadata": {},
     "output_type": "display_data"
    }
   ],
   "source": [
    "%%render\n",
    "DCR = M_f/M_r"
   ]
  }
 ],
 "metadata": {
  "kernelspec": {
   "display_name": "Python 3 (ipykernel)",
   "language": "python",
   "name": "python3"
  },
  "language_info": {
   "codemirror_mode": {
    "name": "ipython",
    "version": 3
   },
   "file_extension": ".py",
   "mimetype": "text/x-python",
   "name": "python",
   "nbconvert_exporter": "python",
   "pygments_lexer": "ipython3",
   "version": "3.9.7"
  }
 },
 "nbformat": 4,
 "nbformat_minor": 4
}
