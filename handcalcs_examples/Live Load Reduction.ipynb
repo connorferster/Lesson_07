{
 "cells": [
  {
   "cell_type": "code",
   "execution_count": 1,
   "metadata": {},
   "outputs": [],
   "source": [
    "import forallpeople\n",
    "import handcalcs.render\n",
    "from rjc.jupyter import title_block\n",
    "forallpeople.environment('structural', top_level=True)"
   ]
  },
  {
   "cell_type": "code",
   "execution_count": 2,
   "metadata": {},
   "outputs": [
    {
     "data": {
      "text/markdown": [
       "**Project:** VAUGHN PH 3<br>\n",
       "**Project ID:** VAN.120692.0003<br>\n",
       "**Designer:** CMF<br>\n",
       "**Date:** 2021-05-12<br>\n",
       "**Members:** Column at GL A/2 at L01<br>\n"
      ],
      "text/plain": [
       "<IPython.core.display.Markdown object>"
      ]
     },
     "metadata": {},
     "output_type": "display_data"
    }
   ],
   "source": [
    "title_block(\"VAUGHN PH 3\", \"VAN.120692.0003\", \"CMF\", Members='Column at GL A/2 at L01')"
   ]
  },
  {
   "cell_type": "markdown",
   "metadata": {},
   "source": [
    "# Live Load Reduction Factors\n",
    "As per BCBC 2018 Cl. 4.1.5.8"
   ]
  },
  {
   "cell_type": "code",
   "execution_count": 3,
   "metadata": {},
   "outputs": [],
   "source": [
    "# Inputs\n",
    "\n",
    "A_Trib = 240*ft**2\n",
    "occupancy = \"Office\"\n",
    "LL = 2.4*kPa"
   ]
  },
  {
   "cell_type": "code",
   "execution_count": 4,
   "metadata": {},
   "outputs": [
    {
     "data": {
      "text/latex": [
       "\\[\n",
       "\\begin{aligned}\n",
       "\\mathrm{occupancy} &= \\mathrm{Office} \\; \n",
       "\\\\[10pt]\n",
       "A_{Trib} &= 240.000\\ \\text{ft}^{2} \\; \\;\\textrm{(Three floors of office)}\n",
       "\\\\[10pt]\n",
       "\\mathrm{LL} &= 2.400\\ \\text{kPa} \\; \n",
       "\\end{aligned}\n",
       "\\]"
      ],
      "text/plain": [
       "<IPython.core.display.Latex object>"
      ]
     },
     "metadata": {},
     "output_type": "display_data"
    }
   ],
   "source": [
    "%%render\n",
    "occupancy\n",
    "A_Trib # Three floors of office\n",
    "LL"
   ]
  },
  {
   "cell_type": "code",
   "execution_count": 5,
   "metadata": {},
   "outputs": [],
   "source": [
    "from math import sqrt"
   ]
  },
  {
   "cell_type": "code",
   "execution_count": 6,
   "metadata": {},
   "outputs": [],
   "source": [
    "A = float(A_Trib.si())\n",
    "B = float(A_Trib.si())"
   ]
  },
  {
   "cell_type": "code",
   "execution_count": 7,
   "metadata": {},
   "outputs": [
    {
     "data": {
      "text/latex": [
       "\\[\n",
       "\\begin{aligned}\n",
       "A &= 22.297 \\; \n",
       "\\\\[10pt]\n",
       "B &= 22.297 \\; \n",
       "\\\\[10pt]\n",
       "&\\text{Since, } \\mathrm{occupancy} \\rightarrow \\left( \\textrm{Office} \\right) :   \\end{aligned}\n",
       "\\]\n",
       "\\[\n",
       "\\begin{aligned}\n",
       "k_{Red} &= 0.3 + \\sqrt { \\frac{ 9.8 }{ B } }  = 0.3 + \\sqrt { \\frac{ 9.8 }{ 22.297 } } &= 0.963  \n",
       "\\end{aligned}\n",
       "\\]"
      ],
      "text/plain": [
       "<IPython.core.display.Latex object>"
      ]
     },
     "metadata": {},
     "output_type": "display_data"
    }
   ],
   "source": [
    "%%render\n",
    "A\n",
    "B\n",
    "if occupancy== \"Assembly\" and A_Trib > (80*m**2): k_Red = 0.5 + sqrt(20 / A)\n",
    "elif occupancy != \"Assembly\" and A_Trib > (20*m**2): k_Red = 0.3 + sqrt(9.8 / B)"
   ]
  },
  {
   "cell_type": "markdown",
   "metadata": {},
   "source": [
    "## Reduced Live Load"
   ]
  },
  {
   "cell_type": "code",
   "execution_count": 8,
   "metadata": {},
   "outputs": [
    {
     "data": {
      "text/latex": [
       "\\[\n",
       "\\begin{aligned}\n",
       "\\mathrm{LL}_{Red} &= \\mathrm{LL} \\cdot k_{Red}  = 2.400\\ \\text{kPa} \\cdot 0.963 &= 2.311\\ \\text{kPa}  \n",
       "\\end{aligned}\n",
       "\\]"
      ],
      "text/plain": [
       "<IPython.core.display.Latex object>"
      ]
     },
     "metadata": {},
     "output_type": "display_data"
    }
   ],
   "source": [
    "%%render\n",
    "LL_Red = LL * k_Red"
   ]
  }
 ],
 "metadata": {
  "kernelspec": {
   "display_name": "Python 3 (ipykernel)",
   "language": "python",
   "name": "python3"
  },
  "language_info": {
   "codemirror_mode": {
    "name": "ipython",
    "version": 3
   },
   "file_extension": ".py",
   "mimetype": "text/x-python",
   "name": "python",
   "nbconvert_exporter": "python",
   "pygments_lexer": "ipython3",
   "version": "3.9.7"
  }
 },
 "nbformat": 4,
 "nbformat_minor": 4
}
