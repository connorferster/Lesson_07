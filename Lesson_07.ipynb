{
 "cells": [
  {
   "cell_type": "code",
   "execution_count": 75,
   "id": "065377c0-2b6f-40f7-9e1a-81c8f8ef4ce8",
   "metadata": {},
   "outputs": [],
   "source": [
    "import handcalcs.render\n",
    "from handcalcs.decorator import handcalc\n",
    "import forallpeople\n",
    "forallpeople.environment('structural', top_level=True)\n",
    "\n",
    "from math import sqrt, sin, cos, tan"
   ]
  },
  {
   "cell_type": "markdown",
   "id": "a04e89da-7c5c-408a-90a9-44a4dbcd128d",
   "metadata": {},
   "source": [
    "# 📖🖊Lesson 07: Engineering Calculation Scripts in Jupyter"
   ]
  },
  {
   "cell_type": "markdown",
   "id": "7b9dc175-0e95-47b2-a7f2-099241d86348",
   "metadata": {},
   "source": [
    "Because of the rich media display capabilities of JupyterLab, we can create beautifully formatted calculation scripts for engineering easily.\n",
    "\n",
    "With a little imagination and cunning, you can do some creative work!\n",
    "\n",
    "There are three primary tools you can use to _jazz_ up your notebooks for engineering:\n",
    "\n",
    "1. handcalcs\n",
    "2. forallpeople\n",
    "3. IPython display"
   ]
  },
  {
   "cell_type": "markdown",
   "id": "407d5cfa-fe53-479e-88e8-1666948f1483",
   "metadata": {},
   "source": [
    "# Introducing: handcalcs\n",
    "\n",
    "[Read the handcalcs documentation](https://github.com/connorferster/handcalcs)\n",
    "\n",
    "**Typical import**\n",
    "```python\n",
    "import handcalcs.render\n",
    "```\n",
    "\n",
    "After we have done `import handcalcs.render`, we have access to the `%%render` \"cell magic\". \n",
    "\n",
    "A cell magic is a special _Jupyter-only_ command that performs some \"magic\" ability to the code in your cell before or after running it. \n",
    "\n",
    "A normal cell:\n",
    "```python\n",
    "a = 4\n",
    "b = 5.2\n",
    "c = 2*a + b\n",
    "```\n",
    "\n",
    "Lets add the `%%render` cell magic to our previous cell (and ditch the `print()` statement):\n",
    "\n",
    "```python\n",
    "%%render\n",
    "a = 4\n",
    "b = 5.2\n",
    "c = 2*a + b\n",
    "```\n",
    "\n",
    "Copy-paste the code above into the cell below to see what happens."
   ]
  },
  {
   "cell_type": "code",
   "execution_count": null,
   "id": "07fa7aff-1978-4955-9c5b-08f21998fff0",
   "metadata": {},
   "outputs": [],
   "source": []
  },
  {
   "cell_type": "markdown",
   "id": "fc341c19-fe7c-4266-9b59-faa57a42e905",
   "metadata": {},
   "source": [
    "# handcalcs: what it's all about\n",
    "\n",
    "`handcalcs` is about rendering python arithmetic expressions similar to how you would write them out by hand:\n",
    "1. Display the symbolic formula\n",
    "2. Followed by the numeric substitutions\n",
    "3. Followed by the result\n",
    "\n",
    "While there are other excellent software programs for doing similar stuff (SMath Studio, MathCAD), handcalcs is different in three ways:\n",
    "\n",
    "1. It shows the numeric substitution\n",
    "2. You don't have to click and drag your formulas around on the page: it's just laid out nicely\n",
    "3. It's free and open-source\n",
    "\n",
    "## How it works\n",
    "\n",
    "When you run your cell, handcalcs first reads the code in your cell (as thought it were in a text file) and tells Python to run your code.\n",
    "\n",
    "It splits the numbers and operators apart and then uses several `for` loops to _transform_ each of the python code strings into $\\LaTeX$ strings. \n",
    "\n",
    "Finally, it gets the calculated results from Python and puts the appropriate result at the end of your calculation code.\n",
    "\n",
    "JupyterLab comes with `KaTex` installed, which is a web-based Latex renderer developed by Khan Academy."
   ]
  },
  {
   "cell_type": "markdown",
   "id": "1033e121-b5ac-4464-adbc-981fb4a979e2",
   "metadata": {},
   "source": [
    "# handcalcs cell commands\n",
    "\n",
    "When using `%%render` there are some additional commands you can put afterwards that alters the behaviour of how handcalcs displays your calculation:\n",
    "\n",
    "* `params` - Does not render the formula or the subsitution. Just displays the variable (symbol) and the value (result) within a three column layout. Useful for displaying input parameters in a condensed fashion or any value for which the calculation is trivial.\n",
    "* `symbolic` - Does not render the numeric substition or the result. Renders the variable (symbol) and the formula.\n",
    "* `short` - Some formulas are really long and do not fit on one line. handcalcs tries to guess if your equation is too long and, if so, it will break it up over three lines. Sometimes it guesses wrong. If you want your formula to displayed on one line _as though it were a \"short\" equation_ then use `short`.\n",
    "* `long` - Similar to above. If your equation is quite long but handcalcs guesses that it is short, then use `long` to display it over three lines _as though it were a \"long\" equation_.\n",
    "* `sympy` - Useful when you are doing algebraic manipulation with sympy expressions. Use `sympy` when you are ready to subsitute numerical values for your sympy symbols.\n",
    "* `<n>` - Can be used on it's own or with `params`, `short`, and `long`. handcalcs defaults to only showing three decimals of precision. You can enter an integer as a cell command to change the number of decimal places displayed by the numbers _in that cell_.\n",
    "\n",
    "Try using each of the different cell commands on the following cells to see how they work:\n",
    "\n",
    "Cell 1:\n",
    "```python\n",
    "%%render\n",
    "a = 3.238728302\n",
    "b = 4.38\n",
    "c = -15.0\n",
    "\n",
    "x_pos = (-b + sqrt(b**2 - 4 * a * c)) / (2*a)\n",
    "x_neg = (-b - sqrt(b**2 - 4 * a * c)) / (2*a)\n",
    "Delta = (-b + sqrt(b**2 - 4 * a * c)) / (2*a) - (-b - sqrt(b**2 - 4 * a * c)) / (2*a)\n",
    "```\n",
    "\n",
    "Cell 2:\n",
    "```python\n",
    "%%render\n",
    "phi = 0.65\n",
    "f_prime_c = 35 # in MPa\n",
    "beta = 0.18\n",
    "b_w_beam = 300 # in mm\n",
    "d_v_beam = 520 # in mm\n",
    "V_c_beam = phi * beta * sqrt(f_prime_c) * b_w_beam * d_v_beam # N, Cl. 11.3.4\n",
    "```"
   ]
  },
  {
   "cell_type": "code",
   "execution_count": null,
   "id": "d4c174e7-cce6-43de-ba59-13bbbeb361d9",
   "metadata": {},
   "outputs": [],
   "source": []
  },
  {
   "cell_type": "markdown",
   "id": "a1db7661-120c-4d97-b8a5-dc5acf8ab3bb",
   "metadata": {},
   "source": [
    "## A short summary of handcalcs features\n",
    "\n",
    "* Use `_` in your variable names to create sub-scripts (and sub-sub-scripts, etc.)\n",
    "* Use Greek letter names for Greek symbols. e.g. `Delta` for a capital delta, `delta` for little delta.\n",
    "* You can use functions like `sin()` and `cos()` imported from the `math` module\n",
    "* Python comments are rendered in parentheses after the results. You can use additional $\\LaTeX$ code in your comments if surrounded by `$...$`\n",
    "* You can also use `if`, `elif`, and `else` statements in your cell but you have to write each on one line, e.g.\n",
    "```python\n",
    "%%render\n",
    "a = 2\n",
    "b = 3\n",
    "if a > b: c = a * b\n",
    "elif a < b: c = a + b\n",
    "```\n",
    "\n",
    "**A Known Bug (that needs fixing)**\n",
    "\n",
    "Always put spaces around your equal signs, e.g. `a = 32` instead of `a=32`. Sometimes it gets messed up if you don't."
   ]
  },
  {
   "cell_type": "code",
   "execution_count": null,
   "id": "ef8f307d-ffc3-43fd-be6c-2f277641aff9",
   "metadata": {},
   "outputs": [],
   "source": []
  },
  {
   "cell_type": "markdown",
   "id": "db592735-2cf0-4cf0-80bc-7cbb90368021",
   "metadata": {},
   "source": [
    "## Use handcalcs in functions with the `@handcalc` decorator\n",
    "\n",
    "**Typical import**\n",
    "```python\n",
    "from handcalcs.decorator import handcalc\n",
    "```\n",
    "\n",
    "While the `%%render` cell magic can only be used in Jupyter and not general Python, you can still use handcalcs in general Python by using the `@handcalc` decorator. It works like this:\n",
    "\n",
    "```python\n",
    "@handcalc()\n",
    "def LC3a(DL: float, LL: float, SL: float) -> float:\n",
    "    \"\"\"NBCC Loadcase 3a\"\"\"\n",
    "    FL = 1.25*DL + 1.5*SL + 1.0*LL\n",
    "    return FL\n",
    "```\n",
    "\n",
    "Similar to a cell magic, a decorator is a simply a function that gets called on your function before your function executes.\n",
    "\n",
    "When the function executes, you will now get two values: \n",
    "1. The $\\LaTeX$ code, as a `str`\n",
    "2. The return value from your function\n",
    "\n",
    "To have the $\\LaTeX$ code be automatically rendered in Jupyter, you can add the argument `jupyter_display=True`, as such:\n",
    "\n",
    "```python\n",
    "@handcalc(jupyter_display=True)\n",
    "def LC3a(DL: float, LL: float, SL: float) -> float:\n",
    "    \"\"\"NBCC Loadcase 3a\"\"\"\n",
    "    FL = 1.25*DL + 1.5*SL + 1.0*LL\n",
    "    return FL\n",
    "```\n",
    "\n",
    "Now your function will only return one value, your return value, and the _function code_ will be rendered in the cell."
   ]
  },
  {
   "cell_type": "code",
   "execution_count": null,
   "id": "5127499c-5a27-4b3b-9555-1787a9a9fc1a",
   "metadata": {},
   "outputs": [],
   "source": []
  },
  {
   "cell_type": "markdown",
   "id": "0c243829-0376-4eef-b59a-488e5a17264e",
   "metadata": {},
   "source": [
    "# forallpeople: adding unit awareness\n",
    "\n",
    "[Read the forallpeople documentation](https://github.com/connorferster/forallpeople/)\n",
    "\n",
    "**Typical imports**\n",
    "```python\n",
    "import forallpeople\n",
    "forallpeople.environment('structural', top_level=True)\n",
    "```\n",
    "\n",
    "Working with `handcalcs` is another library called `forallpeople`. It is so named because the words of Nicholas de Condorcet as he wrote about the new metric system in revolutionary France: \"It is to be for all people, for all time.\"\n",
    "\n",
    "`forallpeople` is a library that adds capability to perform units-aware calculations by using the SI units system (and units derived or defined by the SI unit system, such as US Customary units).\n",
    "\n",
    "## What units are there in the `structural` environment?\n",
    "\n",
    "To find out what units you have access to now, use `forallpeople.environment()` and they will all print to the screen."
   ]
  },
  {
   "cell_type": "code",
   "execution_count": null,
   "id": "3d5d2820-0fe9-49c7-aa37-b3079c170092",
   "metadata": {},
   "outputs": [],
   "source": []
  },
  {
   "cell_type": "markdown",
   "id": "87e235c2-6b5a-4747-a5bd-a9c23ea9ca0c",
   "metadata": {},
   "source": [
    "## How to use\n",
    "\n",
    "Simply multiply your values by your units:\n",
    "\n",
    "```python\n",
    "phi = 0.65\n",
    "Z_x = 600e3*mm**3\n",
    "f_y = 350*MPa\n",
    "M_r = phi * Z_x * f_y\n",
    "M_r\n",
    "```\n",
    "\n",
    "Use it with handcalcs:\n",
    "\n",
    "**Cell 1**\n",
    "```python\n",
    "%%render params\n",
    "phi = 0.65\n",
    "Z_x = 600e3*mm**3\n",
    "f_y = 40*MPa\n",
    "```\n",
    "**Cell 2**\n",
    "```python\n",
    "%%render\n",
    "M_r = phi * Z_x * f_y\n",
    "```"
   ]
  },
  {
   "cell_type": "code",
   "execution_count": 76,
   "id": "8e90a600-88a1-4235-8bb8-f431232706eb",
   "metadata": {},
   "outputs": [
    {
     "data": {
      "text/latex": [
       "\\[\n",
       "\\begin{aligned}\n",
       "\\phi &= 0.65 \\; \n",
       " &Z_{x} &= 600000.000\\ \\text{mm}^{3} \\; \n",
       " &f_{y} &= 300.000\\ \\text{MPa} \\; \n",
       "\\\\[10pt]\\end{aligned}\n",
       "\\]"
      ],
      "text/plain": [
       "<IPython.core.display.Latex object>"
      ]
     },
     "metadata": {},
     "output_type": "display_data"
    }
   ],
   "source": [
    "%%render params\n",
    "phi = 0.65\n",
    "Z_x = 600e3*mm**3\n",
    "f_y = 300*MPa"
   ]
  },
  {
   "cell_type": "code",
   "execution_count": 77,
   "id": "59d68329-b63f-4566-b20b-fcddfbde38ee",
   "metadata": {},
   "outputs": [
    {
     "data": {
      "text/latex": [
       "\\[\n",
       "\\begin{aligned}\n",
       "M_{r} &= \\phi \\cdot Z_{x} \\cdot f_{y}  = 0.65 \\cdot 600000.000\\ \\text{mm}^{3} \\cdot 300.000\\ \\text{MPa} &= 117.000\\ \\text{kN} \\cdot \\text{m}  \n",
       "\\end{aligned}\n",
       "\\]"
      ],
      "text/plain": [
       "<IPython.core.display.Latex object>"
      ]
     },
     "metadata": {},
     "output_type": "display_data"
    }
   ],
   "source": [
    "%%render\n",
    "M_r = phi * Z_x * f_y"
   ]
  },
  {
   "cell_type": "markdown",
   "id": "b0e2b7ff-c4fc-464b-abbc-95ae280ef966",
   "metadata": {},
   "source": [
    "# IPython display functions\n",
    "\n",
    "Jupyter comes with many ways of displaying rich media. Some of these media types include:\n",
    "\n",
    "* Markdown\n",
    "* HTML\n",
    "* Latex\n",
    "* Image (PNG, JPG, GIF, etc.)\n",
    "* SVG (Scaleable Vector Graphics)\n",
    "* Video\n",
    "* Audio\n",
    "* Code\n",
    "\n",
    "**Typical imports**\n",
    "```python\n",
    "from IPython.display import Markdown, HTML, Image, SVG, Video # etc.\n",
    "from IPython.display import display\n",
    "```"
   ]
  },
  {
   "cell_type": "code",
   "execution_count": 88,
   "id": "219f2fc9-d5a0-42a2-a0b4-3d376ecbf9df",
   "metadata": {},
   "outputs": [],
   "source": [
    "from IPython.display import Markdown, HTML, Image, SVG, Video # etc.\n",
    "from IPython.display import display"
   ]
  },
  {
   "cell_type": "code",
   "execution_count": null,
   "id": "d392e8a5-fbd0-4b4e-9440-33083ecbec70",
   "metadata": {},
   "outputs": [],
   "source": []
  },
  {
   "cell_type": "code",
   "execution_count": 89,
   "id": "9bc0f9ac-d3e9-448d-af85-5baa9ea5e411",
   "metadata": {},
   "outputs": [],
   "source": [
    "my_markdown_message = Markdown(\"**This text is bold**\")"
   ]
  },
  {
   "cell_type": "code",
   "execution_count": 90,
   "id": "50106cc2-5b5e-4d21-a7c1-736e69170ec8",
   "metadata": {},
   "outputs": [
    {
     "data": {
      "text/markdown": [
       "**This text is bold**"
      ],
      "text/plain": [
       "<IPython.core.display.Markdown object>"
      ]
     },
     "metadata": {},
     "output_type": "display_data"
    }
   ],
   "source": [
    "display(my_markdown_message)"
   ]
  },
  {
   "cell_type": "code",
   "execution_count": null,
   "id": "2f2e7dba-8efc-4cea-9077-798d70cfc5a2",
   "metadata": {},
   "outputs": [],
   "source": []
  }
 ],
 "metadata": {
  "kernelspec": {
   "display_name": "Python 3 (ipykernel)",
   "language": "python",
   "name": "python3"
  },
  "language_info": {
   "codemirror_mode": {
    "name": "ipython",
    "version": 3
   },
   "file_extension": ".py",
   "mimetype": "text/x-python",
   "name": "python",
   "nbconvert_exporter": "python",
   "pygments_lexer": "ipython3",
   "version": "3.9.7"
  }
 },
 "nbformat": 4,
 "nbformat_minor": 5
}
